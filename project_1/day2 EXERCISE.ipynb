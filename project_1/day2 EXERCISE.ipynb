{
 "cells": [
  {
   "cell_type": "markdown",
   "id": "d15d8294-3328-4e07-ad16-8a03e9bbfdb9",
   "metadata": {},
   "source": [
    "# Welcome to your first assignment!\n",
    "\n",
    "Instructions are below. Please give this a try, and look in the solutions folder if you get stuck (or feel free to ask me!)"
   ]
  },
  {
   "cell_type": "markdown",
   "id": "ada885d9-4d42-4d9b-97f0-74fbbbfe93a9",
   "metadata": {},
   "source": [
    "<table style=\"margin: 0; text-align: left;\">\n",
    "    <tr>\n",
    "        <td style=\"width: 150px; height: 150px; vertical-align: middle;\">\n",
    "            <img src=\"../resources.jpg\" width=\"150\" height=\"150\" style=\"display: block;\" />\n",
    "        </td>\n",
    "        <td>\n",
    "            <h2 style=\"color:#f71;\">Just before we get to the assignment --</h2>\n",
    "            <span style=\"color:#f71;\">I thought I'd take a second to point you at this page of useful resources for the course. This includes links to all the slides.<br/>\n",
    "            <a href=\"https://edwarddonner.com/2024/11/13/llm-engineering-resources/\">https://edwarddonner.com/2024/11/13/llm-engineering-resources/</a><br/>\n",
    "            Please keep this bookmarked, and I'll continue to add more useful links there over time.\n",
    "            </span>\n",
    "        </td>\n",
    "    </tr>\n",
    "</table>"
   ]
  },
  {
   "cell_type": "markdown",
   "id": "6e9fa1fc-eac5-4d1d-9be4-541b3f2b3458",
   "metadata": {},
   "source": [
    "# HOMEWORK EXERCISE ASSIGNMENT\n",
    "\n",
    "Upgrade the day 1 project to summarize a webpage to use an Open Source model running locally via Ollama rather than OpenAI\n",
    "\n",
    "You'll be able to use this technique for all subsequent projects if you'd prefer not to use paid APIs.\n",
    "\n",
    "**Benefits:**\n",
    "1. No API charges - open-source\n",
    "2. Data doesn't leave your box\n",
    "\n",
    "**Disadvantages:**\n",
    "1. Significantly less power than Frontier Model\n",
    "\n",
    "## Recap on installation of Ollama\n",
    "\n",
    "Simply visit [ollama.com](https://ollama.com) and install!\n",
    "\n",
    "Once complete, the ollama server should already be running locally.  \n",
    "If you visit:  \n",
    "[http://localhost:11434/](http://localhost:11434/)\n",
    "\n",
    "You should see the message `Ollama is running`.  \n",
    "\n",
    "If not, bring up a new Terminal (Mac) or Powershell (Windows) and enter `ollama serve`  \n",
    "And in another Terminal (Mac) or Powershell (Windows), enter `ollama pull llama3.2`  \n",
    "Then try [http://localhost:11434/](http://localhost:11434/) again.\n",
    "\n",
    "If Ollama is slow on your machine, try using `llama3.2:1b` as an alternative. Run `ollama pull llama3.2:1b` from a Terminal or Powershell, and change the code below from `MODEL = \"llama3.2\"` to `MODEL = \"llama3.2:1b\"`"
   ]
  },
  {
   "cell_type": "code",
   "execution_count": 1,
   "id": "4e2a9393-7767-488e-a8bf-27c12dca35bd",
   "metadata": {},
   "outputs": [],
   "source": [
    "# imports\n",
    "\n",
    "import requests\n",
    "from bs4 import BeautifulSoup\n",
    "from IPython.display import Markdown, display"
   ]
  },
  {
   "cell_type": "code",
   "execution_count": 2,
   "id": "29ddd15d-a3c5-4f4e-a678-873f56162724",
   "metadata": {},
   "outputs": [],
   "source": [
    "# Constants\n",
    "\n",
    "OLLAMA_API = \"http://localhost:11434/api/chat\"\n",
    "HEADERS = {\"Content-Type\": \"application/json\"}\n",
    "MODEL = \"llama3.2:1b\""
   ]
  },
  {
   "cell_type": "code",
   "execution_count": 3,
   "id": "dac0a679-599c-441f-9bf2-ddc73d35b940",
   "metadata": {},
   "outputs": [],
   "source": [
    "# Create a messages list using the same format that we used for OpenAI\n",
    "\n",
    "messages = [\n",
    "    {\"role\": \"user\", \"content\": \"Describe some of the business applications of Generative AI\"}\n",
    "]"
   ]
  },
  {
   "cell_type": "code",
   "execution_count": 4,
   "id": "7bb9c624-14f0-4945-a719-8ddb64f66f47",
   "metadata": {},
   "outputs": [],
   "source": [
    "payload = {\n",
    "        \"model\": MODEL,\n",
    "        \"messages\": messages,\n",
    "        \"stream\": False\n",
    "    }"
   ]
  },
  {
   "cell_type": "code",
   "execution_count": 5,
   "id": "479ff514-e8bd-4985-a572-2ea28bb4fa40",
   "metadata": {},
   "outputs": [
    {
     "name": "stderr",
     "output_type": "stream",
     "text": [
      "\u001b[?2026h\u001b[?25l\u001b[1Gpulling manifest â ‹ \u001b[K\u001b[?25h\u001b[?2026l\u001b[?2026h\u001b[?25l\u001b[1Gpulling manifest â ™ \u001b[K\u001b[?25h\u001b[?2026l\u001b[?2026h\u001b[?25l\u001b[1Gpulling manifest â ¹ \u001b[K\u001b[?25h\u001b[?2026l\u001b[?2026h\u001b[?25l\u001b[1Gpulling manifest â ¸ \u001b[K\u001b[?25h\u001b[?2026l\u001b[?2026h\u001b[?25l\u001b[1Gpulling manifest â ¼ \u001b[K\u001b[?25h\u001b[?2026l\u001b[?2026h\u001b[?25l\u001b[1Gpulling manifest \u001b[K\n",
      "pulling 74701a8c35f6: 100% â–•â–ˆâ–ˆâ–ˆâ–ˆâ–ˆâ–ˆâ–ˆâ–ˆâ–ˆâ–ˆâ–ˆâ–ˆâ–ˆâ–ˆâ–ˆâ–ˆâ–ˆâ–ˆâ–� 1.3 GB                         \u001b[K\n",
      "pulling 966de95ca8a6: 100% â–•â–ˆâ–ˆâ–ˆâ–ˆâ–ˆâ–ˆâ–ˆâ–ˆâ–ˆâ–ˆâ–ˆâ–ˆâ–ˆâ–ˆâ–ˆâ–ˆâ–ˆâ–ˆâ–� 1.4 KB                         \u001b[K\n",
      "pulling fcc5a6bec9da: 100% â–•â–ˆâ–ˆâ–ˆâ–ˆâ–ˆâ–ˆâ–ˆâ–ˆâ–ˆâ–ˆâ–ˆâ–ˆâ–ˆâ–ˆâ–ˆâ–ˆâ–ˆâ–ˆâ–� 7.7 KB                         \u001b[K\n",
      "pulling a70ff7e570d9: 100% â–•â–ˆâ–ˆâ–ˆâ–ˆâ–ˆâ–ˆâ–ˆâ–ˆâ–ˆâ–ˆâ–ˆâ–ˆâ–ˆâ–ˆâ–ˆâ–ˆâ–ˆâ–ˆâ–� 6.0 KB                         \u001b[K\n",
      "pulling 4f659a1e86d7: 100% â–•â–ˆâ–ˆâ–ˆâ–ˆâ–ˆâ–ˆâ–ˆâ–ˆâ–ˆâ–ˆâ–ˆâ–ˆâ–ˆâ–ˆâ–ˆâ–ˆâ–ˆâ–ˆâ–�  485 B                         \u001b[K\n",
      "verifying sha256 digest \u001b[K\n",
      "writing manifest \u001b[K\n",
      "success \u001b[K\u001b[?25h\u001b[?2026l\n"
     ]
    }
   ],
   "source": [
    "# Let's just make sure the model is loaded\n",
    "\n",
    "!ollama pull llama3.2:1b"
   ]
  },
  {
   "cell_type": "code",
   "execution_count": 6,
   "id": "42b9f644-522d-4e05-a691-56e7658c0ea9",
   "metadata": {},
   "outputs": [
    {
     "name": "stdout",
     "output_type": "stream",
     "text": [
      "Printing out response\n",
      "Generative AI has numerous business applications across various industries, including:\n",
      "\n",
      "1. **Content Creation**: Generative AI can generate high-quality content such as images, videos, and text, which can be used for marketing, advertising, and social media.\n",
      "2. **Personalized Recommendations**: Generative AI can analyze customer data and preferences to provide personalized product recommendations, improving customer engagement and sales.\n",
      "3. **Automated Content Generation**: Generative AI can automate the generation of content such as blog posts, articles, and social media posts, saving time and resources for content creators.\n",
      "4. **Customer Service Chatbots**: Generative AI can power chatbots that can understand customer queries and provide personalized responses, improving customer experience and reducing support costs.\n",
      "5. **Design and Prototyping**: Generative AI can generate 2D and 3D designs, prototypes, and models, streamlining the design process and reducing the need for manual labor.\n",
      "6. **Marketing Automation**: Generative AI can automate marketing campaigns by generating personalized messages, emails, and ads, improving campaign effectiveness and targeting accuracy.\n",
      "7. **Data Analysis and Visualization**: Generative AI can analyze large datasets and generate visualizations, insights, and predictions, helping businesses make data-driven decisions.\n",
      "8. **Predictive Maintenance**: Generative AI can predict equipment failures and maintenance needs, reducing downtime and improving overall equipment effectiveness.\n",
      "9. **Supply Chain Optimization**: Generative AI can optimize supply chain operations by predicting demand, identifying bottlenecks, and suggesting logistics improvements.\n",
      "10. **Financial Analysis and Risk Management**: Generative AI can analyze financial data and identify potential risks, providing early warnings and recommendations for mitigating those risks.\n",
      "\n",
      "Some specific business applications of Generative AI include:\n",
      "\n",
      "* **Product design**: Companies like Airbus and Ferrari are using Generative AI to design new products and prototypes.\n",
      "* **Marketing automation**: Brands like Coca-Cola and Pepsi are using Generative AI to automate marketing campaigns and personalize messages.\n",
      "* **Customer service**: Companies like IBM and Accenture are using Generative AI-powered chatbots to improve customer experience and reduce support costs.\n",
      "* **Supply chain optimization**: Logistics companies like UPS and FedEx are using Generative AI to optimize supply chain operations and predict demand.\n",
      "\n",
      "These are just a few examples of the many business applications of Generative AI. As the technology continues to evolve, we can expect to see even more innovative uses across various industries.\n"
     ]
    }
   ],
   "source": [
    "# If this doesn't work for any reason, try the 2 versions in the following cells\n",
    "# And double check the instructions in the 'Recap on installation of Ollama' at the top of this lab\n",
    "# And if none of that works - contact me!\n",
    "\n",
    "response = requests.post(OLLAMA_API, json=payload, headers=HEADERS)\n",
    "print(\"Printing out response\")\n",
    "print(response.json()['message']['content'])"
   ]
  },
  {
   "cell_type": "code",
   "execution_count": 8,
   "id": "e9ebe1d5-ce02-4ca9-8f64-51cd08c4339b",
   "metadata": {
    "scrolled": true
   },
   "outputs": [
    {
     "name": "stdout",
     "output_type": "stream",
     "text": [
      "test\n"
     ]
    }
   ],
   "source": [
    "print(\"test\")"
   ]
  },
  {
   "cell_type": "markdown",
   "id": "6a021f13-d6a1-4b96-8e18-4eae49d876fe",
   "metadata": {},
   "source": [
    "# Introducing the ollama package\n",
    "\n",
    "And now we'll do the same thing, but using the elegant ollama python package instead of a direct HTTP call.\n",
    "\n",
    "Under the hood, it's making the same call as above to the ollama server running at localhost:11434"
   ]
  },
  {
   "cell_type": "code",
   "execution_count": 10,
   "id": "7745b9c4-57dc-4867-9180-61fa5db55eb8",
   "metadata": {},
   "outputs": [
    {
     "name": "stdout",
     "output_type": "stream",
     "text": [
      "Generative AI has numerous business applications across various industries, including:\n",
      "\n",
      "1. **Content Creation**: AI-generated content, such as images, videos, and text, can be used to automate content creation for marketing campaigns, social media, and websites.\n",
      "2. **Personalized Recommendations**: Generative AI algorithms can analyze customer data and preferences to generate personalized product recommendations, improving customer engagement and sales.\n",
      "3. **Chatbots and Virtual Assistants**: AI-powered chatbots can provide 24/7 customer support, help with transactions, and offer basic assistance, freeing up human resources for more complex tasks.\n",
      "4. **Design and Architecture**: Generative AI tools can assist architects and designers in creating innovative and optimized designs for buildings, products, and other creative projects.\n",
      "5. **Supply Chain Optimization**: AI algorithms can analyze data from various sources to predict demand, optimize inventory levels, and streamline logistics operations.\n",
      "6. **Cybersecurity Threat Analysis**: Generative AI can help identify potential cybersecurity threats by analyzing patterns in network traffic, malware samples, and other security-related data.\n",
      "7. **Marketing Automation**: AI-powered marketing automation tools can generate targeted campaigns, personalize messages, and analyze customer behavior to optimize marketing efforts.\n",
      "8. **Data Analysis and Visualization**: Generative AI can help analyze large datasets and create visualizations that provide insights into complex patterns and trends, enabling data-driven decision-making.\n",
      "9. **Language Translation**: AI-powered translation tools can facilitate communication across languages and cultures, improving international business collaborations and customer experiences.\n",
      "10. **Innovation Incubation**: Generative AI can be used to generate new ideas and concepts for products, services, and business models, helping companies stay ahead of the competition.\n",
      "\n",
      "Some specific examples of business applications of Generative AI include:\n",
      "\n",
      "* **Amazon's Alexa**: AI-powered chatbot that provides customer support and helps with transactions.\n",
      "* **Nike's \"Just Do It\" Campaign**: AI-generated ad creatives to improve marketing efficiency and personalization.\n",
      "* **Google's AutoML**: AI-powered tool for automating machine learning tasks, improving data analysis and prediction capabilities.\n",
      "* **Microsoft's Azure Machine Learning**: AI platform that enables developers to build, deploy, and manage machine learning models.\n",
      "\n",
      "These are just a few examples of the many business applications of Generative AI. As the technology continues to evolve, we can expect even more innovative uses across various industries.\n"
     ]
    }
   ],
   "source": [
    "import ollama\n",
    "\n",
    "response = ollama.chat(model=MODEL, messages=messages)\n",
    "print(response['message']['content'])"
   ]
  },
  {
   "cell_type": "markdown",
   "id": "a4704e10-f5fb-4c15-a935-f046c06fb13d",
   "metadata": {},
   "source": [
    "## Alternative approach - using OpenAI python library to connect to Ollama"
   ]
  },
  {
   "cell_type": "code",
   "execution_count": 11,
   "id": "23057e00-b6fc-4678-93a9-6b31cb704bff",
   "metadata": {},
   "outputs": [
    {
     "name": "stdout",
     "output_type": "stream",
     "text": [
      "Generative Artificial Intelligence (AI) has numerous business applications across various industries. Here are some examples:\n",
      "\n",
      "1. **Content Generation**: Generative AI can be used to generate high-quality content such as articles, social media posts, product descriptions, and even entire books. This can help businesses reduce content creation costs and increase content volume.\n",
      "2. **Customer Service Chatbots**: AI-powered chatbots can use generative models to respond to customer inquiries, provide personalized support, and even create custom responses based on user preferences.\n",
      "3. **Graphic Design and Visual Content**: Generative AI can generate custom graphics, logos, icons, and videos, reducing the need for manual design work and speeding up content creation.\n",
      "4. **Marketing Automation**: Generative AI can help automate marketing campaigns by generating personalized email templates, subject lines, and even entire ad creatives.\n",
      "5. **Product Design and Development**: Generative AI can be used to design new products, prototype ideas, and even create 3D models for product visualization.\n",
      "6. **Audio Production**: Generative AI can generate music tracks, sound effects, and even entire albums, reducing the need for human composers and producers.\n",
      "7. **Data Analysis and Insights**: Generative AI can analyze large datasets and provide actionable insights, helping businesses make data-driven decisions.\n",
      "8. **Translation and Localization**: Generative AI can translate text and images into multiple languages at scale, enabling businesses to reach global audiences more efficiently.\n",
      "9. **Security Threat Detection**: Generative AI can help detect security threats by analyzing network traffic patterns and generating predictions on potential attacks.\n",
      "10. **Recommendation Systems**: Generative AI can be used to generate personalized product recommendations based on user behavior and preferences.\n",
      "11. **Virtual Meetings and Avatars**: Generative AI can create virtual meeting avatars, reducing the need for physical meetings and enabling more effective remote communication.\n",
      "12. **Customer Segmentation and Profiling**: Generative AI can help analyze customer data and generate detailed profiles, enabling businesses to target specific audiences more effectively.\n",
      "\n",
      "Some industries that are particularly well-suited to generative AI include:\n",
      "\n",
      "1. **Publishing**: Automating content creation, editing, and proofreading.\n",
      "2. **Advertising**: Generating personalized ad creative, targeting specific demographics and behaviors.\n",
      "3. **Finance**: Analyzing financial data, detecting anomalies, and predicting market trends.\n",
      "4. **Healthcare**: Developing medical devices, analyzing patient data, and generating prescriptions.\n",
      "5. **Education**: Creating customized learning materials, assessing student progress, and providing personalized feedback.\n",
      "\n",
      "These are just a few examples of the business applications of generative AI. As the technology continues to evolve, we can expect to see even more innovative use cases across various industries.\n"
     ]
    }
   ],
   "source": [
    "# There's actually an alternative approach that some people might prefer\n",
    "# You can use the OpenAI client python library to call Ollama:\n",
    "\n",
    "from openai import OpenAI\n",
    "ollama_via_openai = OpenAI(base_url='http://localhost:11434/v1', api_key='ollama')\n",
    "\n",
    "response = ollama_via_openai.chat.completions.create(\n",
    "    model=MODEL,\n",
    "    messages=messages\n",
    ")\n",
    "\n",
    "print(response.choices[0].message.content)"
   ]
  },
  {
   "cell_type": "markdown",
   "id": "9f9e22da-b891-41f6-9ac9-bd0c0a5f4f44",
   "metadata": {},
   "source": [
    "## Are you confused about why that works?\n",
    "\n",
    "It seems strange, right? We just used OpenAI code to call Ollama?? What's going on?!\n",
    "\n",
    "Here's the scoop:\n",
    "\n",
    "The python class `OpenAI` is simply code written by OpenAI engineers that makes calls over the internet to an endpoint.  \n",
    "\n",
    "When you call `openai.chat.completions.create()`, this python code just makes a web request to the following url: \"https://api.openai.com/v1/chat/completions\"\n",
    "\n",
    "Code like this is known as a \"client library\" - it's just wrapper code that runs on your machine to make web requests. The actual power of GPT is running on OpenAI's cloud behind this API, not on your computer!\n",
    "\n",
    "OpenAI was so popular, that lots of other AI providers provided identical web endpoints, so you could use the same approach.\n",
    "\n",
    "So Ollama has an endpoint running on your local box at http://localhost:11434/v1/chat/completions  \n",
    "And in week 2 we'll discover that lots of other providers do this too, including Gemini and DeepSeek.\n",
    "\n",
    "And then the team at OpenAI had a great idea: they can extend their client library so you can specify a different 'base url', and use their library to call any compatible API.\n",
    "\n",
    "That's it!\n",
    "\n",
    "So when you say: `ollama_via_openai = OpenAI(base_url='http://localhost:11434/v1', api_key='ollama')`  \n",
    "Then this will make the same endpoint calls, but to Ollama instead of OpenAI."
   ]
  },
  {
   "cell_type": "markdown",
   "id": "bc7d1de3-e2ac-46ff-a302-3b4ba38c4c90",
   "metadata": {},
   "source": [
    "## Also trying the amazing reasoning model DeepSeek\n",
    "\n",
    "Here we use the version of DeepSeek-reasoner that's been distilled to 1.5B.  \n",
    "This is actually a 1.5B variant of Qwen that has been fine-tuned using synethic data generated by Deepseek R1.\n",
    "\n",
    "Other sizes of DeepSeek are [here](https://ollama.com/library/deepseek-r1) all the way up to the full 671B parameter version, which would use up 404GB of your drive and is far too large for most!"
   ]
  },
  {
   "cell_type": "code",
   "execution_count": null,
   "id": "cf9eb44e-fe5b-47aa-b719-0bb63669ab3d",
   "metadata": {},
   "outputs": [],
   "source": [
    "!ollama pull deepseek-r1:1.5b"
   ]
  },
  {
   "cell_type": "code",
   "execution_count": null,
   "id": "1d3d554b-e00d-4c08-9300-45e073950a76",
   "metadata": {},
   "outputs": [],
   "source": [
    "# This may take a few minutes to run! You should then see a fascinating \"thinking\" trace inside <think> tags, followed by some decent definitions\n",
    "\n",
    "response = ollama_via_openai.chat.completions.create(\n",
    "    model=\"deepseek-r1:1.5b\",\n",
    "    messages=[{\"role\": \"user\", \"content\": \"Please give definitions of some core concepts behind LLMs: a neural network, attention and the transformer\"}]\n",
    ")\n",
    "\n",
    "print(response.choices[0].message.content)"
   ]
  },
  {
   "cell_type": "markdown",
   "id": "1622d9bb-5c68-4d4e-9ca4-b492c751f898",
   "metadata": {},
   "source": [
    "# NOW the exercise for you\n",
    "\n",
    "Take the code from day1 and incorporate it here, to build a website summarizer that uses Llama 3.2 running locally instead of OpenAI; use either of the above approaches."
   ]
  },
  {
   "cell_type": "code",
   "execution_count": 5,
   "id": "e6928d6c-891d-4925-b3f5-2ee8641138ad",
   "metadata": {},
   "outputs": [],
   "source": [
    "# imports\n",
    "\n",
    "import os\n",
    "import requests\n",
    "from dotenv import load_dotenv\n",
    "from bs4 import BeautifulSoup\n",
    "from IPython.display import Markdown, display\n",
    "from openai import OpenAI\n",
    "\n",
    "ollama_via_openai = OpenAI(base_url='http://localhost:11434/v1', api_key='ollama')\n",
    "\n",
    "# If you get an error running this cell, then please head over to the troubleshooting notebook!"
   ]
  },
  {
   "cell_type": "code",
   "execution_count": 6,
   "id": "81b6c0d5-e3c5-4bd0-88e1-2aef9b0898de",
   "metadata": {},
   "outputs": [],
   "source": [
    "# A class to represent a Webpage\n",
    "# If you're not familiar with Classes, check out the \"Intermediate Python\" notebook\n",
    "\n",
    "# Some websites need you to use proper headers when fetching them:\n",
    "headers = {\n",
    " \"User-Agent\": \"Mozilla/5.0 (Windows NT 10.0; Win64; x64) AppleWebKit/537.36 (KHTML, like Gecko) Chrome/117.0.0.0 Safari/537.36\"\n",
    "}\n",
    "\n",
    "class Website:\n",
    "\n",
    "    def __init__(self, url):\n",
    "        \"\"\"\n",
    "        Create this Website object from the given url using the BeautifulSoup library\n",
    "        \"\"\"\n",
    "        self.url = url\n",
    "        response = requests.get(url, headers=headers)\n",
    "        soup = BeautifulSoup(response.content, 'html.parser')\n",
    "        self.title = soup.title.string if soup.title else \"No title found\"\n",
    "        for irrelevant in soup.body([\"script\", \"style\", \"img\", \"input\"]):\n",
    "            irrelevant.decompose()\n",
    "        self.text = soup.body.get_text(separator=\"\\n\", strip=True)"
   ]
  },
  {
   "cell_type": "code",
   "execution_count": 8,
   "id": "e2ab7b69-4f36-4264-8036-b9fca93f3b95",
   "metadata": {},
   "outputs": [],
   "source": [
    "# summarize\n",
    "\n",
    "def summarize(url):\n",
    "    website = Website(url)\n",
    "    response = ollama_via_openai.chat.completions.create(\n",
    "        model=MODEL,\n",
    "        messages=messages\n",
    "    )\n",
    "    return(response.choices[0].message.content)"
   ]
  },
  {
   "cell_type": "code",
   "execution_count": 9,
   "id": "df3e09df-2c7d-4870-8ee0-4cbfb381c971",
   "metadata": {},
   "outputs": [
    {
     "data": {
      "text/plain": [
       "'Generative AI has numerous business applications across various industries. Here are some examples:\\n\\n1. **Content creation**: Generative AI can be used to create high-quality content, such as text articles, social media posts, videos, and images. Companies like Medium, LinkedIn, and Amazon News could integrate generative AI algorithms to generate diverse content faster and cheaper than human writers.\\n2. **Customer service chatbots**: Customer service chatbots can use generative AI to respond to customer inquiries, provide support, and resolve issues more efficiently. For instance, Airbnb uses a chatbot that generates responses based on historical data and user behavior.\\n3. **Marketing automation**: Generative AI can help marketers create personalized, relevant marketing messages and campaigns. Companies like Target and Coca-Cola use generative AI algorithms to optimize their marketing efforts based on customer data and behavior.\\n4. **Product recommendation systems**: Generative AI can be used to recommend products to customers based on their browsing and purchasing history. Amazon, Walmart, and other e-commerce companies integrate generative AI into their platforms for more targeted product recommendations.\\n5. **Customer segmentation**: Generative AI algorithms can help businesses segment customers based on demographic, behavioral, and preferences data. This allows companies like Adobe and Salesforce to create targeted marketing campaigns and improve customer service.\\n6. **Virtual assistants**: Virtual personal assistants, like Amazon Echo or Google Home, use generative AI to perform tasks such as setting reminders, making appointments, and controlling smart home devices.\\n7. **Content moderation**: Generative AI can help automate content moderation processes by identifying patterns, detecting toxicity, and flagging suspicious behavior. Platforms like Twitter and TikTok could integrate generative AI to improve their content review processes.\\n8. **Transcription services**: Generative AI algorithms can be used for transcription tasks, such as converting audio files into text or video captions. Companies like Otter.ai and Express Scribe use generative AI to improve the accuracy of transcription services.\\n9. **Predictive analytics**: Generative AI can help businesses predict customer churn, sales trends, and market shifts by analyzing large datasets. Amazon uses generative AI for predictive modeling in its retail business.\\n10. **Quality control**: Generative AI can be used to analyze product images, detect defects, or identify counterfeit items. Companies like Walmart and eBay use generative AI to enhance their quality control processes.\\n\\nThese applications demonstrate the vast potential of generative AI in various industries, enabling businesses to automate, streamline, and improve operational efficiency while providing better customer experiences.'"
      ]
     },
     "execution_count": 9,
     "metadata": {},
     "output_type": "execute_result"
    }
   ],
   "source": [
    "summarize(\"https://edwarddonner.com\")"
   ]
  },
  {
   "cell_type": "code",
   "execution_count": 10,
   "id": "ca0d9f4b-0855-4779-acb7-5fcc3f88b418",
   "metadata": {},
   "outputs": [],
   "source": [
    "# A function to display this nicely in the Jupyter output, using markdown\n",
    "\n",
    "def display_summary(url):\n",
    "    summary = summarize(url)\n",
    "    display(Markdown(summary))"
   ]
  },
  {
   "cell_type": "code",
   "execution_count": 11,
   "id": "733a4657-ffd5-4638-bd5c-12202c26aa22",
   "metadata": {},
   "outputs": [
    {
     "data": {
      "text/markdown": [
       "Generative AI has numerous business applications across various industries, enabling organizations to create new products, services, and processes while reducing costs, improving efficiency, and enhancing customer experiences. Here are some examples:\n",
       "\n",
       "1. **Content creation**: Generative AI can generate high-quality content like articles, podcasts, videos, and social media posts, reducing the need for human writers and editors. This can be applied in industries like marketing, education, and entertainment.\n",
       "2. **Supply chain optimization**: By analyzing vast amounts of data on production schedules, inventory levels, and supplier information, Generative AI can optimize logistics and shipping routes, resulting in reduced costs and improved delivery times.\n",
       "3. **Customer service chatbots**: Integrate Generative AI-powered chatbots with customer support platforms to provide 24/7 assistance, answering frequently asked questions, resolving issues, and routing complex inquiries to human operators.\n",
       "4. **Predictive maintenance and quality control**: Use Generative AI to analyze sensor data from machines and systems to predict potential failures or defects, enabling proactive maintenance and reducing downtime.\n",
       "5. **Digital twins and simulations**: Generate realistic digital representations of physical assets, processes, and environments, allowing for predictive analytics, scenario planning, and decision-making support in industries like manufacturing, energy, and transportation.\n",
       "6. **Personalized marketing**: Use Generative AI to create tailored content, such as product recommendations, advertising messages, or social media posts, based on customer behavior, preferences, and interactions with existing data.\n",
       "7. **E-sports and gaming**: Generate 3D avatars, characters, and game environments for e-sports competitions, helping to streamline production, reduce costs, and increase player engagement.\n",
       "8. **Product design and engineering**: Utilize Generative AI to create innovative product designs, prototypes, and test scenarios, accelerating the R&D process and reducing the need for physical testing.\n",
       "9. **Healthcare research and development**: Generate novel data analytic models, predictive equations, and simulation tools to accelerate medical discovery and improve patient care outcomes.\n",
       "10. **Financial forecasting and risk analysis**: Develop predictive models using Generative AI to analyze market trends, identify potential risks, and inform investment decisions across various sectors, such as finance, energy, and aviation.\n",
       "11. **Education content creation**: Generate educational materials, such as courses, articles, or videos, on a wide range of topics, reducing costs associated with human authors and allowing for a broader range of subject coverage.\n",
       "12. **Travel planning and optimization**: Use Generative AI to suggest personalized itineraries based on user preferences, budget constraints, and historical data, reducing travel expense and improving customer satisfaction.\n",
       "\n",
       "These applications demonstrate the potential of Generative AI in driving business innovation across various sectors. As this technology continues to evolve, we can expect even more exciting features and uses cases in the future."
      ],
      "text/plain": [
       "<IPython.core.display.Markdown object>"
      ]
     },
     "metadata": {},
     "output_type": "display_data"
    }
   ],
   "source": [
    "display_summary(\"https://edwarddonner.com\")"
   ]
  },
  {
   "cell_type": "code",
   "execution_count": null,
   "id": "a54538e5-205c-4744-b20b-7e968800fac5",
   "metadata": {},
   "outputs": [],
   "source": []
  }
 ],
 "metadata": {
  "kernelspec": {
   "display_name": "Python 3 (ipykernel)",
   "language": "python",
   "name": "python3"
  },
  "language_info": {
   "codemirror_mode": {
    "name": "ipython",
    "version": 3
   },
   "file_extension": ".py",
   "mimetype": "text/x-python",
   "name": "python",
   "nbconvert_exporter": "python",
   "pygments_lexer": "ipython3",
   "version": "3.11.13"
  }
 },
 "nbformat": 4,
 "nbformat_minor": 5
}
