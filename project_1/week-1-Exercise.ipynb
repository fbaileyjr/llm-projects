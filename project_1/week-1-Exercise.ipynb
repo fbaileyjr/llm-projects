{
 "cells": [
  {
   "cell_type": "markdown",
   "id": "fe12c203-e6a6-452c-a655-afb8a03a4ff5",
   "metadata": {},
   "source": [
    "# End of week 1 exercise\n",
    "\n",
    "To demonstrate your familiarity with OpenAI API, and also Ollama, build a tool that takes a technical question,  \n",
    "and responds with an explanation. This is a tool that you will be able to use yourself during the course!"
   ]
  },
  {
   "cell_type": "code",
   "execution_count": 17,
   "id": "c1070317-3ed9-4659-abe3-828943230e03",
   "metadata": {},
   "outputs": [],
   "source": [
    "# imports\n",
    "import os\n",
    "import requests\n",
    "import json\n",
    "from typing import List\n",
    "from dotenv import load_dotenv\n",
    "from bs4 import BeautifulSoup\n",
    "from IPython.display import Markdown, display, update_display\n",
    "from openai import OpenAI"
   ]
  },
  {
   "cell_type": "code",
   "execution_count": 18,
   "id": "4a456906-915a-4bfd-bb9d-57e505c5093f",
   "metadata": {},
   "outputs": [],
   "source": [
    "# constants\n",
    "MODEL_GPT = 'gpt-4o-mini'\n",
    "MODEL_LLAMA = 'llama3.2'"
   ]
  },
  {
   "cell_type": "code",
   "execution_count": 19,
   "id": "a8d7923c-5f28-4c30-8556-342d7c8497c1",
   "metadata": {},
   "outputs": [
    {
     "name": "stdout",
     "output_type": "stream",
     "text": [
      "API key looks good so far\n"
     ]
    }
   ],
   "source": [
    "# set up environment\n",
    "load_dotenv(override=True)\n",
    "api_key = os.getenv('OPENAI_API_KEY')\n",
    "\n",
    "if api_key and api_key.startswith('sk-proj-') and len(api_key)>10:\n",
    "    print(\"API key looks good so far\")\n",
    "else:\n",
    "    print(\"There might be a problem with your API Key?\")\n",
    "\n",
    "openai = OpenAI()\n",
    "openai_ollama = OpenAI(base_url='http://localhost:11434/v1', api_key='ollama')"
   ]
  },
  {
   "cell_type": "code",
   "execution_count": 20,
   "id": "3f0d0137-52b0-47a8-81a8-11a90a010798",
   "metadata": {
    "scrolled": true
   },
   "outputs": [
    {
     "name": "stdin",
     "output_type": "stream",
     "text": [
      "Enter your question:  \n"
     ]
    }
   ],
   "source": [
    "\n",
    "# here is the question; type over this to ask something new\n",
    "system_prompt=\"You are a programmer and a technical support engineer. \\\n",
    "You are able to explain complex concepts into easy, digestible explanations \\\n",
    "using layman's terms and, when needed, visual examples\"\n",
    "\n",
    "default_question = \"\"\"\n",
    "Please explain what this code does and why:\n",
    "yield from {book.get(\"author\") for book in books if book.get(\"author\")}\n",
    "\"\"\"\n",
    "\n",
    "user_question = input(\"Enter your question: \") or default_question"
   ]
  },
  {
   "cell_type": "code",
   "execution_count": 21,
   "id": "d4353aad-b80c-4ce9-bf5f-01ea68c79fc0",
   "metadata": {},
   "outputs": [
    {
     "name": "stdout",
     "output_type": "stream",
     "text": [
      "\n",
      "Please explain what this code does and why:\n",
      "yield from {book.get(\"author\") for book in books if book.get(\"author\")}\n",
      "\n"
     ]
    }
   ],
   "source": [
    "print(user_question)"
   ]
  },
  {
   "cell_type": "code",
   "execution_count": 22,
   "id": "60ce7000-a4a5-4cce-a261-e75ef45063b4",
   "metadata": {},
   "outputs": [
    {
     "data": {
      "text/markdown": [
       "Let's break down the code snippet you provided:\n",
       "\n",
       "python\n",
       "yield from {book.get(\"author\") for book in books if book.get(\"author\")}\n",
       "\n",
       "\n",
       "### Explanation of Each Component\n",
       "\n",
       "1. **`books`**: This is assumed to be a collection (like a list) of dictionaries, where each dictionary represents a book and has various attributes, one of which is \"author\".\n",
       "\n",
       "2. **`book.get(\"author\")`**: This method retrieves the value associated with the key \"author\" from each `book` dictionary. If the key does not exist, it returns `None` instead of raising an error.\n",
       "\n",
       "3. **Set Comprehension**: The expression `{book.get(\"author\") for book in books if book.get(\"author\")}` is a set comprehension. \n",
       "   - It iterates over each `book` in `books`.\n",
       "   - For each `book`, it checks if `book.get(\"author\")` is truthy (i.e., it exists and is not `None` or an empty string).\n",
       "   - If it is truthy, it adds the author's name to the set.\n",
       "   - The use of a set ensures that each author's name is unique; duplicates will be automatically removed.\n",
       "\n",
       "4. **`yield from`**: This is a construct used in a generator function. It allows the generator to yield all values from an iterable (in this case, a set of authors). Essentially, it lets you \"flatten\" the values so that they can be yielded one by one.\n",
       "\n",
       "### What the Code Does\n",
       "\n",
       "- The code snippet collects unique author names from a list of books, filtering out any entries where the author is not specified.\n",
       "- It then yields each of these unique author names one at a time, allowing them to be processed or used elsewhere in a way that only retrieves the unique values.\n",
       "\n",
       "### Why Use This Code?\n",
       "\n",
       "1. **Efficiency**: Using a set automatically removes any duplicate authors, avoiding unnecessary processing or extra work later on.\n",
       "\n",
       "2. **Readability**: The use of `yield from` makes the generator's intention clear: it will produce a sequence of authors without creating a separate list that holds all author names before yielding them.\n",
       "\n",
       "3. **Memory Management**: Since it's a generator, this approach allows for potentially lazy evaluation, which means that you don’t need to store all the authors in memory at once. Instead, you only hold one author at a time, which can significantly save memory when dealing with large lists of books.\n",
       "\n",
       "### Visual Example\n",
       "\n",
       "Imagine you have the following `books` list:\n",
       "\n",
       "python\n",
       "books = [\n",
       "    {\"title\": \"Book A\", \"author\": \"Alice\"},\n",
       "    {\"title\": \"Book B\", \"author\": \"Bob\"},\n",
       "    {\"title\": \"Book C\", \"author\": \"Alice\"},\n",
       "    {\"title\": \"Book D\", \"author\": None},\n",
       "    {\"title\": \"Book E\", \"author\": \"Charlie\"},\n",
       "    {\"title\": \"Book F\", \"author\": \"\"},\n",
       "]\n",
       "\n",
       "\n",
       "Running the provided code snippet would yield the following unique authors:\n",
       "\n",
       "- Alice\n",
       "- Bob\n",
       "- Charlie\n",
       "\n",
       "The author \"Alice\" appears twice, but in the set, it will only be stored once due to its unique nature. Authors with `None` or empty string as their values will be ignored.\n",
       "\n",
       "In summary, this snippet is a compact and efficient way to extract a unique list of authors from a collection of books while dealing with possible missing or empty fields."
      ],
      "text/plain": [
       "<IPython.core.display.Markdown object>"
      ]
     },
     "metadata": {},
     "output_type": "display_data"
    }
   ],
   "source": [
    "# Get gpt-4o-mini to answer, with streaming\n",
    "stream = openai.chat.completions.create(\n",
    "        model=MODEL_GPT,\n",
    "        messages=[\n",
    "            {\"role\": \"system\", \"content\": system_prompt},\n",
    "            {\"role\": \"user\", \"content\": user_question}\n",
    "          ],\n",
    "        stream=True\n",
    "    )\n",
    "\n",
    "response = \"\"\n",
    "display_handle = display(Markdown(\"\"), display_id=True)\n",
    "for chunk in stream:\n",
    "    response += chunk.choices[0].delta.content or ''\n",
    "    response = response.replace(\"```\",\"\").replace(\"markdown\", \"\")\n",
    "    update_display(Markdown(response), display_id=display_handle.display_id)\n"
   ]
  },
  {
   "cell_type": "code",
   "execution_count": 23,
   "id": "8f7c8ea8-4082-4ad0-8751-3301adcf6538",
   "metadata": {},
   "outputs": [
    {
     "data": {
      "text/markdown": [
       "Let me break it down for you in simple terms.\n",
       "\n",
       "This line of code is using a concept called \"yield from\" to extract data from multiple sources. Here's the code again, with some extra context:\n",
       "\n",
       "python\n",
       "from collections.abc import Iterable\n",
       "\n",
       "def get_books_with_author():\n",
       "    # Some list or generator containing books\n",
       "    books = [\n",
       "        {\"title\": \"Book 1\", \"author\": \"Author A\"},\n",
       "        {\"title\": \"Book 2\", \"author\": \"Author B\"},\n",
       "        {\"title\": \"Book 3\", \"author\": \"Author C\"}\n",
       "    ]\n",
       "    \n",
       "    for book in books:\n",
       "        yield from {book.get(\"author\")}  # This is the mysterious part\n",
       "\n",
       "get_books_with_author()\n",
       "\n",
       "\n",
       "In this example, `yield from` tells Python to \"yields these values\" instead of using its own default way of yielding. Think of it like a super-efficient bucket feeder.\n",
       "\n",
       "Let me explain what's happening inside that inner `{}` part:\n",
       "\n",
       "python\n",
       "from collections.abc import Iterable\n",
       "\n",
       "def get_book_author():\n",
       "    # A dictionary containing books with their authors\n",
       "    book Authors = {\n",
       "        \"Book 1\": {\"author\": \"Author A\"},\n",
       "        \"Book 2\": {\"author\": \"Author B\"},\n",
       "        \"Book 3\": {\"author\": \"Author C\"}\n",
       "    }\n",
       "\n",
       "    for title, details in book_authors.items():\n",
       "        yield from details.get(\"author\")  # Yield just the author name if present\n",
       "\n",
       "get_book_author()\n",
       "\n",
       "\n",
       "Here's what each part of this line does:\n",
       "\n",
       "- `for book in books` iterates over a series of **books** (represented as dictionaries).\n",
       "\n",
       "- `{book.get(\"author\")}` extracts the \"author\" value from each book.\n",
       "\n",
       "Now we put them together to create an infinite iterator for all authors:\n",
       "`.yield from {book.get(\"author\") for book in books if book.get(\"author\")}``\n",
       "\n",
       "When the function is iterated over, Python will yield each **author's name** one by one. If an author doesn't exist (i.e., some `book.get(\"author\");` returns `None`), then that value won't be included.\n",
       "\n",
       "Here's how we can do this:\n",
       "python\n",
       "from collections.abc import Iterable\n",
       "\n",
       "def get_books_with_author():\n",
       "    # Some list or generator containing books\n",
       "    books = [\n",
       "        {\"title\": \"Book 1\", \"author\": \"Author A\"},\n",
       "        {\"title\": \"Book 2\", \"author\": \"Author B\"},\n",
       "        {\"title\": \"Book 3\",  # this one is missing the author\n",
       "          }\n",
       "    ]\n",
       "    \n",
       "    for book in books:\n",
       "        yield from {book.get(\"author\")} if book.get(\"author\") else \"\"  # Include empty author name to fix the condition\n",
       "\n",
       "get_books_with_author()\n",
       "for value in get_books_with_author():\n",
       "    print(value)\n",
       "\n",
       "\n",
       "When you run this, you'll see: \"Author A\", \"Author B\""
      ],
      "text/plain": [
       "<IPython.core.display.Markdown object>"
      ]
     },
     "metadata": {},
     "output_type": "display_data"
    }
   ],
   "source": [
    "# Get Llama 3.2 to answer\n",
    "stream = openai_ollama.chat.completions.create(\n",
    "        model=MODEL_LLAMA,\n",
    "        messages=[\n",
    "            {\"role\": \"system\", \"content\": system_prompt},\n",
    "            {\"role\": \"user\", \"content\": user_question}\n",
    "          ],\n",
    "        stream=True\n",
    "    )\n",
    "\n",
    "response = \"\"\n",
    "display_handle = display(Markdown(\"\"), display_id=True)\n",
    "for chunk in stream:\n",
    "    response += chunk.choices[0].delta.content or ''\n",
    "    response = response.replace(\"```\",\"\").replace(\"markdown\", \"\")\n",
    "    update_display(Markdown(response), display_id=display_handle.display_id)\n"
   ]
  },
  {
   "cell_type": "code",
   "execution_count": null,
   "id": "7dddec1c-5cfa-4f93-a3f3-e80ef431a576",
   "metadata": {},
   "outputs": [],
   "source": []
  },
  {
   "cell_type": "code",
   "execution_count": null,
   "id": "8f17bfcd-46b3-417d-b458-f2ae49209458",
   "metadata": {},
   "outputs": [],
   "source": []
  },
  {
   "cell_type": "code",
   "execution_count": null,
   "id": "892a3c0f-43ac-4497-aaff-3e744a5889d4",
   "metadata": {},
   "outputs": [],
   "source": []
  }
 ],
 "metadata": {
  "kernelspec": {
   "display_name": "Python 3 (ipykernel)",
   "language": "python",
   "name": "python3"
  },
  "language_info": {
   "codemirror_mode": {
    "name": "ipython",
    "version": 3
   },
   "file_extension": ".py",
   "mimetype": "text/x-python",
   "name": "python",
   "nbconvert_exporter": "python",
   "pygments_lexer": "ipython3",
   "version": "3.11.13"
  }
 },
 "nbformat": 4,
 "nbformat_minor": 5
}
